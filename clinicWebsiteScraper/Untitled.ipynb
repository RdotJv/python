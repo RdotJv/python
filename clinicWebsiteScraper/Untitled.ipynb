{
 "cells": [
  {
   "cell_type": "code",
   "execution_count": 1,
   "id": "ca3d6e22-557c-4b16-97e3-856915c0886e",
   "metadata": {},
   "outputs": [],
   "source": [
    "import requests\n",
    "from bs4 import BeautifulSoup\n",
    "url = 'https://{}.portal.athenahealth.com/'"
   ]
  },
  {
   "cell_type": "code",
   "execution_count": 2,
   "id": "8daecf90-af69-46f3-9c23-afa8a47551b6",
   "metadata": {},
   "outputs": [],
   "source": [
    "def get_clinic_name(clinic_id):\n",
    "    response = requests.get(url.format(clinic_id))\n",
    "    try:\n",
    "        response.raise_for_status()\n",
    "    except Exception as e:\n",
    "        print(e)\n",
    "        return None\n",
    "    html = response.text\n",
    "    soup = BeautifulSoup(html, 'html.parser')\n",
    "    clinic_name = soup.find_all('h1')[-1].text.strip()\n",
    "    return clinic_name"
   ]
  },
  {
   "cell_type": "code",
   "execution_count": 3,
   "id": "ba7edf27-4a2c-4aa9-b11a-5c2f02a0cbcb",
   "metadata": {},
   "outputs": [
    {
     "name": "stdout",
     "output_type": "stream",
     "text": [
      "12695\n",
      "Dr. Richard Handelsman\n",
      "12696\n",
      "Women's CenterforIntegrative Health\n",
      "12697\n",
      "Eastern Urological Associates\n",
      "12698\n",
      "500 Server Error: Internal Server Error for url: https://12698.portal.athenahealth.com/\n",
      "None\n",
      "12699\n",
      "Payment Confirmation\n",
      "12700\n",
      "Payment Confirmation\n",
      "12701\n",
      "Payment Confirmation\n",
      "12702\n",
      "Chand Rohatgi MD\n",
      "12703\n",
      "\n",
      "12704\n",
      "Volunteer Healthcare Clinic\n",
      "12705\n",
      "Christ Clinic\n",
      "12706\n",
      "Olga Joukovski, MD, PA\n",
      "12707\n",
      "Restore Health Clinic\n",
      "12708\n",
      "STUART L. SILVERMAN, M.D., A MEDICAL CORPORATION\n",
      "12709\n",
      "George E. Weems Clinics\n",
      "12710\n",
      "500 Server Error: Internal Server Error for url: https://12710.portal.athenahealth.com/\n",
      "None\n",
      "12711\n",
      "Texas Neurosurgical Spine\n",
      "12712\n",
      "500 Server Error: Internal Server Error for url: https://12712.portal.athenahealth.com/\n",
      "None\n",
      "12713\n",
      "Dr. Barry Smith\n",
      "12714\n",
      "500 Server Error: Internal Server Error for url: https://12714.portal.athenahealth.com/\n",
      "None\n",
      "12715\n",
      "Cornerstone Family Health And Associates\n",
      "12716\n",
      "500 Server Error: Internal Server Error for url: https://12716.portal.athenahealth.com/\n",
      "None\n",
      "12717\n",
      "Hale County Hospital Authority\n",
      "12718\n",
      "Samia Kozman MD\n",
      "12719\n",
      "Regenerative Medical Group\n",
      "12720\n",
      "Payment Confirmation\n",
      "12721\n",
      "Nourish Wellness Family Medicine\n",
      "12722\n",
      "The Rosa Health Center\n",
      "12723\n",
      "500 Server Error: Internal Server Error for url: https://12723.portal.athenahealth.com/\n",
      "None\n",
      "12724\n",
      "500 Server Error: Internal Server Error for url: https://12724.portal.athenahealth.com/\n",
      "None\n"
     ]
    }
   ],
   "source": [
    "for clinic_id in range(12695, 12725):\n",
    "    print(clinic_id)\n",
    "    print(get_clinic_name(clinic_id))"
   ]
  },
  {
   "cell_type": "code",
   "execution_count": null,
   "id": "dcd1281e-8181-4b7c-8cab-99be8864e9a1",
   "metadata": {},
   "outputs": [],
   "source": []
  },
  {
   "cell_type": "code",
   "execution_count": null,
   "id": "aea55c08-09be-4cba-84fe-642b08efafb2",
   "metadata": {},
   "outputs": [],
   "source": []
  },
  {
   "cell_type": "code",
   "execution_count": null,
   "id": "66a84184-9f5e-4ed1-a46e-029204567c98",
   "metadata": {},
   "outputs": [],
   "source": []
  }
 ],
 "metadata": {
  "kernelspec": {
   "display_name": "Python 3 (ipykernel)",
   "language": "python",
   "name": "python3"
  },
  "language_info": {
   "codemirror_mode": {
    "name": "ipython",
    "version": 3
   },
   "file_extension": ".py",
   "mimetype": "text/x-python",
   "name": "python",
   "nbconvert_exporter": "python",
   "pygments_lexer": "ipython3",
   "version": "3.11.9"
  }
 },
 "nbformat": 4,
 "nbformat_minor": 5
}
